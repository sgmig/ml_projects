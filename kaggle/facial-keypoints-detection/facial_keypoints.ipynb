{
 "cells": [
  {
   "cell_type": "markdown",
   "metadata": {},
   "source": [
    "# Facial keypoints detection Kaggle Challenge"
   ]
  },
  {
   "cell_type": "markdown",
   "metadata": {},
   "source": [
    "This is my attempt at using ML to complete the taks proposed by the challenge. \n",
    "\n",
    "The dataset consists of 96x96px images of faces, and the goal is to find the position of 15 features in each image. \n",
    "\n",
    "The train sets containts the pictures and the 30 (x,y) coordinates of the features for each training example. \n",
    "\n",
    "I'll begin by visualizing some of the pictures, and if possible their features. Then I'll think about how to detect the features. "
   ]
  },
  {
   "cell_type": "markdown",
   "metadata": {},
   "source": [
    "## Importing some useful libraries"
   ]
  },
  {
   "cell_type": "code",
   "execution_count": null,
   "metadata": {
    "collapsed": true
   },
   "outputs": [],
   "source": [
    "import numpy as np\n",
    "import pandas as pd\n",
    "import matplotlib.pyplot as plt\n",
    "#import seaborn as sns\n",
    "\n",
    "import random\n",
    "\n",
    "%matplotlib inline"
   ]
  },
  {
   "cell_type": "markdown",
   "metadata": {},
   "source": [
    "##  Loading data"
   ]
  },
  {
   "cell_type": "code",
   "execution_count": null,
   "metadata": {
    "collapsed": false
   },
   "outputs": [],
   "source": [
    "# Loading the training set\n",
    "\n",
    "source_data = pd.read_csv('training.csv')"
   ]
  },
  {
   "cell_type": "code",
   "execution_count": null,
   "metadata": {
    "collapsed": false
   },
   "outputs": [],
   "source": [
    "source_data.info()"
   ]
  },
  {
   "cell_type": "code",
   "execution_count": null,
   "metadata": {
    "collapsed": false
   },
   "outputs": [],
   "source": [
    "type(source_data['Image'][0])"
   ]
  },
  {
   "cell_type": "markdown",
   "metadata": {},
   "source": [
    "The pictures are given as strings. I will need to convert them to lists of integers. "
   ]
  },
  {
   "cell_type": "code",
   "execution_count": null,
   "metadata": {
    "collapsed": false
   },
   "outputs": [],
   "source": [
    "# extracting all the pictures\n",
    "\n",
    "photos = source_data['Image'].apply(lambda str_pic: np.array([int(px) for px in str_pic.split()]))\n",
    "\n",
    "# Now I have the pictures as arrays of pixel intensity.\n",
    "\n",
    "np.sqrt(len(photos[0])) # Checking that the arrays have the right size. "
   ]
  },
  {
   "cell_type": "code",
   "execution_count": null,
   "metadata": {
    "collapsed": false,
    "scrolled": true
   },
   "outputs": [],
   "source": [
    "type(photos.head()[0])"
   ]
  },
  {
   "cell_type": "code",
   "execution_count": null,
   "metadata": {
    "collapsed": false,
    "scrolled": true
   },
   "outputs": [],
   "source": [
    "# Plotting a face.\n",
    "plt.imshow(random.choice(photos).reshape(96,96),cmap='gist_gray')"
   ]
  },
  {
   "cell_type": "markdown",
   "metadata": {},
   "source": [
    "Plotting some random faces to see what they look like."
   ]
  },
  {
   "cell_type": "code",
   "execution_count": null,
   "metadata": {
    "collapsed": false,
    "scrolled": false
   },
   "outputs": [],
   "source": [
    "grid_size = 4\n",
    "chosen_faces = random.sample(range(0,len(photos)), grid_size**2) #picking faces for a 4x4 grid. \n",
    "\n",
    "fig, axes = plt.subplots(grid_size, grid_size, gridspec_kw = dict(hspace = .05, wspace = .05), \n",
    "                         figsize=(10,10))\n",
    "\n",
    "for i, ax in zip(chosen_faces, axes.flat):\n",
    "\n",
    "    ax.axis('off')\n",
    "    ax.imshow(photos[i].reshape(96,96),cmap='gist_gray')\n",
    "    \n",
    "#plt.tight_layout()\n"
   ]
  },
  {
   "cell_type": "markdown",
   "metadata": {},
   "source": [
    "## Gathering the features\n",
    "\n",
    "Now that we have the faces, lets have a closer look at the features. "
   ]
  },
  {
   "cell_type": "code",
   "execution_count": null,
   "metadata": {
    "collapsed": false
   },
   "outputs": [],
   "source": [
    "keypoints = source_data.drop('Image', axis = 1)"
   ]
  },
  {
   "cell_type": "code",
   "execution_count": null,
   "metadata": {
    "collapsed": false,
    "scrolled": false
   },
   "outputs": [],
   "source": [
    "keypoints.info()"
   ]
  },
  {
   "cell_type": "code",
   "execution_count": null,
   "metadata": {
    "collapsed": false
   },
   "outputs": [],
   "source": [
    "# Example 7041 is missing features. Lets plot it to see what that looks like.\n",
    "\n",
    "#Getting the keypoints positions\n",
    "guy_face = keypoints.iloc[7041]\n",
    "\n",
    "x_points = [guy_face[i] for i in range(0,30,2)]\n",
    "y_points = [guy_face[i+1] for i in range(0,30,2)] \n",
    "\n",
    "# Plotting a face.\n",
    "\n",
    "plt.imshow(photos[7041].reshape(96,96),cmap='gist_gray')\n",
    "plt.plot(x_points, y_points, 'ro', markerfacecolor = 'none')"
   ]
  },
  {
   "cell_type": "code",
   "execution_count": null,
   "metadata": {
    "collapsed": false,
    "scrolled": true
   },
   "outputs": [],
   "source": [
    "# Plotting faces with features\n",
    "\n",
    "grid_size = 4\n",
    "chosen_faces = random.sample(range(0,len(photos)), grid_size**2) #picking faces for a 4x4 grid. \n",
    "\n",
    "fig, axes = plt.subplots(grid_size, grid_size, gridspec_kw = dict(hspace = .05, wspace = .05), \n",
    "                         figsize=(10,10))\n",
    "\n",
    "for i, ax in zip(chosen_faces, axes.flat):\n",
    "\n",
    "    ax.axis('off')\n",
    "    ax.imshow(photos[i].reshape(96,96),cmap='gist_gray')\n",
    "    \n",
    "    x_points = [keypoints.iloc[i][j] for j in range(0,30,2)]\n",
    "    y_points = [keypoints.iloc[i][j+1] for j in range(0,30,2)] \n",
    "    \n",
    "    ax.plot(x_points, y_points, 'ro', markerfacecolor = 'none')\n"
   ]
  },
  {
   "cell_type": "markdown",
   "metadata": {},
   "source": [
    "### Saving new dataframes with photos and keypoints to new csv files. "
   ]
  },
  {
   "cell_type": "code",
   "execution_count": null,
   "metadata": {
    "collapsed": true
   },
   "outputs": [],
   "source": [
    "# This works, but you end up with a csv file of about 2gb. It is just not worth it nor necessary.\n",
    "# My only reason for doing this was that I needed to use this on a different computer. \n",
    "\n",
    "\"\"\"photos_for_csv = source_data['Image'].apply(lambda str_pic: [int(px) for px in str_pic.split()])\n",
    "\n",
    "photo_arr = np.array([l for l in photos_for_csv])\n",
    "\n",
    "np.savetxt('training_photos.csv', photo_arr, delimiter = ',')\"\"\""
   ]
  },
  {
   "cell_type": "code",
   "execution_count": null,
   "metadata": {
    "collapsed": false
   },
   "outputs": [],
   "source": [
    "\"\"\"photos.to_csv(r'training_photos.csv')\n",
    "keypoints.to_csv(r'training_keypoints.csv')\"\"\""
   ]
  },
  {
   "cell_type": "markdown",
   "metadata": {},
   "source": [
    "#  Dealing with missing labels. "
   ]
  },
  {
   "cell_type": "markdown",
   "metadata": {},
   "source": [
    "I want to eventually put all of these train examples into a neural network, but first I need to deal with some issues. \n",
    "\n",
    "* MANY of the pictures are lacking some keypoints positions. This poses the problem of what the algorithm should find for those examples. I can think of a few alternatives:\n",
    "\n",
    "    * Try to complete the missing labels and then use everything to train a NN that gives all 15 keypoints at once:\n",
    "    \n",
    "        * By manually finding and labelling the missing keypoints --> Of course not. \n",
    "        \n",
    "        * Use the known labels as _features_, and train some sort of algorithm to find the rest of them. I could use KNN, for example, and fill in the missing info. I think it shouldn't take too long to give this a try. The problem is that I need to find batches of images having the same labels, to use as the Nearest Neighbors. So this would mean using vectors with different dimensions, or choosing at each step which features to ignore and to use as reference. __This sort of defeats the purpose: I would build a ML algorithm to find keypoints, and then use those keypoints to train a ML algorithm to find keypoints. The difference is that in the first case the feaures are known keypoints, while in the second they are the pixel intensities of the image, but still...__\n",
    "        \n",
    "        * Input the missing labels using the mean position of each feature, or by finding the distribution of positions for that feature and drawing randomly from it. \n",
    "    \n",
    "    For all these methods of inputing the missing data I can sort of evaluate the result by looking at pictures with inputed keypoints, and see if the filled-in positions look more or less right. However, this does not sound very rigurous. \n",
    "    \n",
    "    * If I don't want to fill in the missing labels, I could train one NN for each specific keypoints, and feed as trianing only images where the said keypoint is known. This implies training 15 different NNs, with a different number of training examples each. \n",
    "    \n",
    "        * I could use these set of networks to predict the keypoints I need to give as a solution, or use them to complete the missing points, and then retrain. This souns more iterative and somewhat suboptimal. __Also quite redundant, and I'd probably be introducing some bias this way__.  "
   ]
  },
  {
   "cell_type": "markdown",
   "metadata": {},
   "source": [
    "### Finding images with the same labeled keypoints. \n",
    "\n",
    "I want to make a table telling me which keypoints are already labelled for each training images. I guess veryfing that only one coordinate for the feature is enough. "
   ]
  },
  {
   "cell_type": "code",
   "execution_count": null,
   "metadata": {
    "collapsed": false
   },
   "outputs": [],
   "source": [
    "new_col_list = [keypoints.columns[i][:-2] for i in range(0,len(keypoints.columns),2)]\n",
    "new_col_list"
   ]
  },
  {
   "cell_type": "code",
   "execution_count": null,
   "metadata": {
    "collapsed": true
   },
   "outputs": [],
   "source": [
    "# a dataframe saying which keypoints are marked on each image. \n",
    "present_keypoints = pd.DataFrame(columns = new_col_list)"
   ]
  },
  {
   "cell_type": "code",
   "execution_count": null,
   "metadata": {
    "collapsed": false
   },
   "outputs": [],
   "source": [
    "for col in new_col_list:\n",
    "    present_keypoints[col] = pd.notnull(keypoints[col+'_x'])"
   ]
  },
  {
   "cell_type": "code",
   "execution_count": null,
   "metadata": {
    "collapsed": false
   },
   "outputs": [],
   "source": [
    "present_keypoints['Total'] = present_keypoints.sum(axis = 1)"
   ]
  },
  {
   "cell_type": "code",
   "execution_count": null,
   "metadata": {
    "collapsed": false
   },
   "outputs": [],
   "source": [
    "present_keypoints['Total'].value_counts()"
   ]
  },
  {
   "cell_type": "code",
   "execution_count": null,
   "metadata": {
    "collapsed": false,
    "scrolled": true
   },
   "outputs": [],
   "source": [
    "present_keypoints[present_keypoints['Total'] == 14]"
   ]
  },
  {
   "cell_type": "code",
   "execution_count": null,
   "metadata": {
    "collapsed": false,
    "scrolled": true
   },
   "outputs": [],
   "source": [
    "sns.heatmap(binary_df[binary_df['Total'] == 14].drop('Total', axis = 1), yticklabels=False,cbar=False,cmap='viridis')"
   ]
  },
  {
   "cell_type": "markdown",
   "metadata": {
    "collapsed": true
   },
   "source": [
    "## Filling in missing keypoints\n",
    "\n",
    "I'll try too see how does it look when I fill the missing labels with the mean."
   ]
  },
  {
   "cell_type": "code",
   "execution_count": null,
   "metadata": {
    "collapsed": false
   },
   "outputs": [],
   "source": [
    "mean_positions = keypoints.mean()"
   ]
  },
  {
   "cell_type": "code",
   "execution_count": null,
   "metadata": {
    "collapsed": false
   },
   "outputs": [],
   "source": [
    "mean_x = [mean_positions[j] for j in range(0,30,2)]\n",
    "mean_y = [mean_positions[j+1] for j in range(0,30,2)] "
   ]
  },
  {
   "cell_type": "code",
   "execution_count": null,
   "metadata": {
    "collapsed": false,
    "scrolled": false
   },
   "outputs": [],
   "source": [
    "# Plotting faces with features\n",
    "\n",
    "grid_size = 4\n",
    "chosen_faces = random.sample(range(0,len(photos)), grid_size**2) #picking faces for a 4x4 grid. \n",
    "\n",
    "fig, axes = plt.subplots(grid_size, grid_size, gridspec_kw = dict(hspace = .05, wspace = .05), \n",
    "                         figsize=(10,10))\n",
    "\n",
    "for i, ax in zip(chosen_faces, axes.flat):\n",
    "\n",
    "    ax.axis('off')\n",
    "    ax.imshow(photos[i].reshape(96,96), cmap='gist_gray')\n",
    "    \n",
    "    x_points = [keypoints.iloc[i][j] for j in range(0,30,2)]\n",
    "    y_points = [keypoints.iloc[i][j+1] for j in range(0,30,2)] \n",
    "    \n",
    "    ax.plot(x_points, y_points, 'ro', markerfacecolor = 'none')\n",
    "    \n",
    "    filled_x = [keypoints.mean()[j] if np.isnan(x_points[int(j/2)]) else np.nan for j in range(0,30,2) ]\n",
    "    filled_y = [keypoints.mean()[j+1] if np.isnan(y_points[int(j/2)]) else np.nan for j in range(0,30,2) ]\n",
    "    \n",
    "    ax.plot(filled_x, filled_y, 'bD', markerfacecolor = 'none')"
   ]
  },
  {
   "cell_type": "code",
   "execution_count": null,
   "metadata": {
    "collapsed": false,
    "scrolled": true
   },
   "outputs": [],
   "source": [
    "# Creating a df with complementary keypoints.\n",
    "\n",
    "complement_keypoints = pd.DataFrame(columns = keypoints.columns)"
   ]
  },
  {
   "cell_type": "code",
   "execution_count": null,
   "metadata": {
    "collapsed": false,
    "scrolled": true
   },
   "outputs": [],
   "source": [
    "keypoints[pd.notnull(keypoints)].iloc[7041] "
   ]
  },
  {
   "cell_type": "code",
   "execution_count": null,
   "metadata": {
    "collapsed": false
   },
   "outputs": [],
   "source": [
    "(4 - np.nan ) * 0"
   ]
  },
  {
   "cell_type": "code",
   "execution_count": null,
   "metadata": {
    "collapsed": false
   },
   "outputs": [],
   "source": [
    "for i in range(len(keypoints[pd.notnull(keypoints)].iloc[7041] )):\n",
    "    if np.isnan(keypoints[pd.notnull(keypoints)].iloc[7041][i] ):\n",
    "        print('replace')\n",
    "    else:\n",
    "        print('ignore')"
   ]
  },
  {
   "cell_type": "code",
   "execution_count": null,
   "metadata": {
    "collapsed": true
   },
   "outputs": [],
   "source": []
  }
 ],
 "metadata": {
  "anaconda-cloud": {},
  "kernelspec": {
   "display_name": "Python [py36]",
   "language": "python",
   "name": "Python [py36]"
  },
  "language_info": {
   "codemirror_mode": {
    "name": "ipython",
    "version": 3
   },
   "file_extension": ".py",
   "mimetype": "text/x-python",
   "name": "python",
   "nbconvert_exporter": "python",
   "pygments_lexer": "ipython3",
   "version": "3.6.3"
  }
 },
 "nbformat": 4,
 "nbformat_minor": 2
}
