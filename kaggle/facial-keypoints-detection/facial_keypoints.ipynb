{
 "cells": [
  {
   "cell_type": "markdown",
   "metadata": {},
   "source": [
    "# Facial keypoints detection Kaggle Challenge"
   ]
  },
  {
   "cell_type": "markdown",
   "metadata": {},
   "source": [
    "This is my attempt at using ML to complete the taks proposed by the challenge. \n",
    "\n",
    "The dataset consists of 96x96px images of faces, and the goal is to find the position of 15 features in each image. \n",
    "\n",
    "The train sets containts the pictures and the 30 (x,y) coordinates of the features for each training example. \n",
    "\n",
    "I'll begin by visualizing some of the pictures, and if possible their features. Then I'll think about how to detect the features. "
   ]
  },
  {
   "cell_type": "markdown",
   "metadata": {},
   "source": [
    "## Importing some useful libraries"
   ]
  },
  {
   "cell_type": "code",
   "execution_count": 1,
   "metadata": {},
   "outputs": [],
   "source": [
    "import numpy as np\n",
    "import pandas as pd\n",
    "import matplotlib.pyplot as plt\n",
    "import seaborn as sns\n",
    "\n",
    "import random\n",
    "\n",
    "%matplotlib inline"
   ]
  },
  {
   "cell_type": "markdown",
   "metadata": {},
   "source": [
    "##  Loading data"
   ]
  },
  {
   "cell_type": "code",
   "execution_count": 2,
   "metadata": {},
   "outputs": [],
   "source": [
    "# Loading the training set\n",
    "\n",
    "source_data = pd.read_csv('training.csv')"
   ]
  },
  {
   "cell_type": "code",
   "execution_count": null,
   "metadata": {},
   "outputs": [],
   "source": [
    "source_data.info()"
   ]
  },
  {
   "cell_type": "code",
   "execution_count": null,
   "metadata": {},
   "outputs": [],
   "source": [
    "type(source_data['Image'][0])"
   ]
  },
  {
   "cell_type": "markdown",
   "metadata": {},
   "source": [
    "The pictures are given as strings. I will need to convert them to lists of integers. "
   ]
  },
  {
   "cell_type": "code",
   "execution_count": null,
   "metadata": {},
   "outputs": [],
   "source": [
    "# extracting all the pictures\n",
    "\n",
    "photos = source_data['Image'].apply(lambda str_pic: np.array([int(px) for px in str_pic.split()]))\n",
    "\n",
    "# Now I have the pictures as arrays of pixel intensity.\n",
    "\n",
    "np.sqrt(len(photos[0])) # Checking that the arrays have the right size. "
   ]
  },
  {
   "cell_type": "code",
   "execution_count": null,
   "metadata": {
    "scrolled": true
   },
   "outputs": [],
   "source": [
    "type(photos.head()[0])"
   ]
  },
  {
   "cell_type": "code",
   "execution_count": null,
   "metadata": {
    "scrolled": true
   },
   "outputs": [],
   "source": [
    "# Plotting a face.\n",
    "plt.imshow(random.choice(photos).reshape(96,96),cmap='gist_gray')"
   ]
  },
  {
   "cell_type": "markdown",
   "metadata": {},
   "source": [
    "Plotting some random faces to see what they look like."
   ]
  },
  {
   "cell_type": "code",
   "execution_count": null,
   "metadata": {
    "scrolled": false
   },
   "outputs": [],
   "source": [
    "grid_size = 4\n",
    "chosen_faces = random.sample(range(0,len(photos)), grid_size**2) #picking faces for a 4x4 grid. \n",
    "\n",
    "fig, axes = plt.subplots(grid_size, grid_size, gridspec_kw = dict(hspace = .05, wspace = .05), \n",
    "                         figsize=(10,10))\n",
    "\n",
    "for i, ax in zip(chosen_faces, axes.flat):\n",
    "\n",
    "    ax.axis('off')\n",
    "    ax.imshow(photos[i].reshape(96,96),cmap='gist_gray')\n",
    "    \n",
    "#plt.tight_layout()\n"
   ]
  },
  {
   "cell_type": "markdown",
   "metadata": {},
   "source": [
    "## Gathering the features\n",
    "\n",
    "Now that we have the faces, lets have a closer look at the features. "
   ]
  },
  {
   "cell_type": "code",
   "execution_count": null,
   "metadata": {},
   "outputs": [],
   "source": [
    "keypoints = source_data.drop('Image', axis = 1)"
   ]
  },
  {
   "cell_type": "code",
   "execution_count": null,
   "metadata": {
    "scrolled": false
   },
   "outputs": [],
   "source": [
    "keypoints.info()"
   ]
  },
  {
   "cell_type": "code",
   "execution_count": null,
   "metadata": {},
   "outputs": [],
   "source": [
    "# Example 7041 is missing features. Lets plot it to see what that looks like.\n",
    "\n",
    "#Getting the keypoints positions\n",
    "guy_face = keypoints.iloc[7041]\n",
    "\n",
    "x_points = [guy_face[i] for i in range(0,30,2)]\n",
    "y_points = [guy_face[i+1] for i in range(0,30,2)] \n",
    "\n",
    "# Plotting a face.\n",
    "\n",
    "plt.imshow(photos[7041].reshape(96,96),cmap='gist_gray')\n",
    "plt.plot(x_points, y_points, 'ro', markerfacecolor = 'none')"
   ]
  },
  {
   "cell_type": "code",
   "execution_count": null,
   "metadata": {
    "scrolled": false
   },
   "outputs": [],
   "source": [
    "# Plotting faces with features\n",
    "\n",
    "grid_size = 4\n",
    "chosen_faces = random.sample(range(0,len(photos)), grid_size**2) #picking faces for a 4x4 grid. \n",
    "\n",
    "fig, axes = plt.subplots(grid_size, grid_size, gridspec_kw = dict(hspace = .05, wspace = .05), \n",
    "                         figsize=(10,10))\n",
    "\n",
    "for i, ax in zip(chosen_faces, axes.flat):\n",
    "\n",
    "    ax.axis('off')\n",
    "    ax.imshow(photos[i].reshape(96,96),cmap='gist_gray')\n",
    "    \n",
    "    x_points = [keypoints.iloc[i][j] for j in range(0,30,2)]\n",
    "    y_points = [keypoints.iloc[i][j+1] for j in range(0,30,2)] \n",
    "    \n",
    "    ax.plot(x_points, y_points, 'ro', markerfacecolor = 'none')\n"
   ]
  },
  {
   "cell_type": "markdown",
   "metadata": {},
   "source": [
    "### Saving new dataframes with photos and keypoints to new csv files. "
   ]
  },
  {
   "cell_type": "code",
   "execution_count": null,
   "metadata": {},
   "outputs": [],
   "source": [
    "# This works, but you end up with a csv file of about 2gb. It is just not worth it nor necessary.\n",
    "# My only reason for doing this was that I needed to use this on a different computer. \n",
    "\n",
    "\"\"\"photos_for_csv = source_data['Image'].apply(lambda str_pic: [int(px) for px in str_pic.split()])\n",
    "\n",
    "photo_arr = np.array([l for l in photos_for_csv])\n",
    "\n",
    "np.savetxt('training_photos.csv', photo_arr, delimiter = ',')\"\"\""
   ]
  },
  {
   "cell_type": "code",
   "execution_count": null,
   "metadata": {},
   "outputs": [],
   "source": [
    "\"\"\"photos.to_csv(r'training_photos.csv')\n",
    "keypoints.to_csv(r'training_keypoints.csv')\"\"\""
   ]
  },
  {
   "cell_type": "markdown",
   "metadata": {},
   "source": [
    "#  Dealing with missing labels. "
   ]
  },
  {
   "cell_type": "markdown",
   "metadata": {},
   "source": [
    "I want to eventually put all of these train examples into a neural network, but first I need to deal with some issues. \n",
    "\n",
    "* MANY of the pictures are lacking some keypoints positions. This poses the problem of what the algorithm should find for those examples. I can think of a few alternatives:\n",
    "\n",
    "    * Try to complete the missing labels and then use everything to train a NN that gives all 15 keypoints at once:\n",
    "    \n",
    "        * By manually finding and labelling the missing keypoints --> Of course not. \n",
    "        \n",
    "        * Use the known labels as _features_, and train some sort of algorithm to find the rest of them. I could use KNN, for example, and fill in the missing info. I think it shouldn't take too long to give this a try. The problem is that I need to find batches of images having the same labels, to use as the Nearest Neighbors. So this would mean using vectors with different dimensions, or choosing at each step which features to ignore and to use as reference. __This sort of defeats the purpose: I would build a ML algorithm to find keypoints, and then use those keypoints to train a ML algorithm to find keypoints. The difference is that in the first case the feaures are known keypoints, while in the second they are the pixel intensities of the image, but still...__\n",
    "        \n",
    "        * Input the missing labels using the mean position of each feature, or by finding the distribution of positions for that feature and drawing randomly from it. \n",
    "    \n",
    "    For all these methods of inputing the missing data I can sort of evaluate the result by looking at pictures with inputed keypoints, and see if the filled-in positions look more or less right. However, this does not sound very rigurous. \n",
    "    \n",
    "    * If I don't want to fill in the missing labels, I could train one NN for each specific keypoints, and feed as trianing only images where the said keypoint is known. This implies training 15 different NNs, with a different number of training examples each. \n",
    "    \n",
    "        * I could use these set of networks to predict the keypoints I need to give as a solution, or use them to complete the missing points, and then retrain. This souns more iterative and somewhat suboptimal. __Also quite redundant, and I'd probably be introducing some bias this way__.  "
   ]
  },
  {
   "cell_type": "markdown",
   "metadata": {},
   "source": [
    "### Finding images with the same labeled keypoints. \n",
    "\n",
    "I want to make a table telling me which keypoints are already labelled for each training images. I guess veryfing that only one coordinate for the feature is enough. "
   ]
  },
  {
   "cell_type": "code",
   "execution_count": null,
   "metadata": {},
   "outputs": [],
   "source": [
    "# Making new columns names by removing the subindices. \n",
    "new_col_list = [keypoints.columns[i][:-2] for i in range(0,len(keypoints.columns),2)]\n",
    "new_col_list"
   ]
  },
  {
   "cell_type": "code",
   "execution_count": null,
   "metadata": {},
   "outputs": [],
   "source": [
    "# a dataframe saying which keypoints are marked on each image. \n",
    "present_keypoints = pd.DataFrame(columns = new_col_list)"
   ]
  },
  {
   "cell_type": "code",
   "execution_count": null,
   "metadata": {},
   "outputs": [],
   "source": [
    "for col in new_col_list:\n",
    "    present_keypoints[col] = pd.notnull(keypoints[col+'_x'])"
   ]
  },
  {
   "cell_type": "code",
   "execution_count": null,
   "metadata": {},
   "outputs": [],
   "source": [
    "present_keypoints['Total'] = present_keypoints.sum(axis = 1)"
   ]
  },
  {
   "cell_type": "code",
   "execution_count": null,
   "metadata": {},
   "outputs": [],
   "source": [
    "present_keypoints['Total'].value_counts()"
   ]
  },
  {
   "cell_type": "code",
   "execution_count": null,
   "metadata": {
    "scrolled": true
   },
   "outputs": [],
   "source": [
    "sns.heatmap(binary_df[binary_df['Total'] == 14].drop('Total', axis = 1), yticklabels=False,cbar=False,cmap='viridis')"
   ]
  },
  {
   "cell_type": "markdown",
   "metadata": {},
   "source": [
    "So we see that most images have only four keypoints labelled, and that furthermore, for images with the same number of keypoints, the missings ones usually do no coincide. I could try and see which are the more and lees common missing points, but it is probably not very important. "
   ]
  },
  {
   "cell_type": "markdown",
   "metadata": {
    "collapsed": true
   },
   "source": [
    "## Filling in missing keypoints\n",
    "\n",
    "I'll try too see how does it look when I fill the missing labels with the mean."
   ]
  },
  {
   "cell_type": "code",
   "execution_count": null,
   "metadata": {},
   "outputs": [],
   "source": [
    "mean_positions = keypoints.mean()"
   ]
  },
  {
   "cell_type": "code",
   "execution_count": null,
   "metadata": {
    "scrolled": false
   },
   "outputs": [],
   "source": [
    "# Plotting faces with features\n",
    "\n",
    "grid_size = 4\n",
    "chosen_faces = random.sample(range(0,len(photos)), grid_size**2) #picking faces for a 4x4 grid. \n",
    "\n",
    "fig, axes = plt.subplots(grid_size, grid_size, gridspec_kw = dict(hspace = .05, wspace = .05), \n",
    "                         figsize=(10,10))\n",
    "\n",
    "for i, ax in zip(chosen_faces, axes.flat):\n",
    "\n",
    "    ax.axis('off')\n",
    "    ax.imshow(photos[i].reshape(96,96), cmap='gist_gray')\n",
    "    \n",
    "    x_points = [keypoints.iloc[i][j] for j in range(0,30,2)]\n",
    "    y_points = [keypoints.iloc[i][j+1] for j in range(0,30,2)] \n",
    "    \n",
    "    ax.plot(x_points, y_points, 'ro', markerfacecolor = 'none')\n",
    "    \n",
    "    filled_x = [keypoints.mean()[j] if np.isnan(x_points[int(j/2)]) else np.nan for j in range(0,30,2) ]\n",
    "    filled_y = [keypoints.mean()[j+1] if np.isnan(y_points[int(j/2)]) else np.nan for j in range(0,30,2) ]\n",
    "    \n",
    "    ax.plot(filled_x, filled_y, 'bD', markerfacecolor = 'none')"
   ]
  },
  {
   "cell_type": "code",
   "execution_count": null,
   "metadata": {
    "scrolled": true
   },
   "outputs": [],
   "source": [
    "# Creating a df with complementary keypoints.\n",
    "\n",
    "complement_keypoints = pd.DataFrame(columns = keypoints.columns)"
   ]
  },
  {
   "cell_type": "code",
   "execution_count": null,
   "metadata": {
    "scrolled": true
   },
   "outputs": [],
   "source": [
    "keypoints[pd.notnull(keypoints)].iloc[7041] "
   ]
  },
  {
   "cell_type": "code",
   "execution_count": null,
   "metadata": {},
   "outputs": [],
   "source": [
    "(4 - np.nan ) * 0"
   ]
  },
  {
   "cell_type": "code",
   "execution_count": null,
   "metadata": {},
   "outputs": [],
   "source": [
    "for i in range(len(keypoints[pd.notnull(keypoints)].iloc[7041] )):\n",
    "    if np.isnan(keypoints[pd.notnull(keypoints)].iloc[7041][i] ):\n",
    "        print('replace')\n",
    "    else:\n",
    "        print('ignore')"
   ]
  },
  {
   "cell_type": "code",
   "execution_count": null,
   "metadata": {},
   "outputs": [],
   "source": []
  },
  {
   "cell_type": "markdown",
   "metadata": {},
   "source": [
    "##  Missing labels and Tensorflow\n",
    "\n",
    "My goal is to train a CNN to identify the keypoints. I need to check wheter the loss function included in tensorflow can handle the missing labels. \n",
    "\n",
    "I will create some random predictions, including some Nan values on the real labels, and see what tensorflow does. I think I will need to include some weights to remove the coordinates for which I have no predictions. "
   ]
  },
  {
   "cell_type": "code",
   "execution_count": null,
   "metadata": {},
   "outputs": [],
   "source": [
    "import tensorflow as tf"
   ]
  },
  {
   "cell_type": "code",
   "execution_count": null,
   "metadata": {},
   "outputs": [],
   "source": [
    "y_preds = np.arange(5) + (2*np.random.rand(5) - 1) # Randome values for my predictions.\n",
    "y_true = np.arange(5) * 1.0 # true values"
   ]
  },
  {
   "cell_type": "code",
   "execution_count": null,
   "metadata": {},
   "outputs": [],
   "source": [
    "plt.plot(np.arange(5))\n",
    "plt.plot(np.arange(5), y_preds, 'r*')"
   ]
  },
  {
   "cell_type": "code",
   "execution_count": null,
   "metadata": {},
   "outputs": [],
   "source": [
    "# Now let's put some nan values\n",
    "y_true[[2,4] ]= np.nan\n",
    "\n",
    "y_true"
   ]
  },
  {
   "cell_type": "code",
   "execution_count": null,
   "metadata": {
    "scrolled": true
   },
   "outputs": [],
   "source": [
    "plt.plot(np.arange(5))\n",
    "plt.plot(np.arange(5), y_true, 'bo')\n",
    "plt.plot(np.arange(5), y_preds, 'r*')"
   ]
  },
  {
   "cell_type": "code",
   "execution_count": null,
   "metadata": {},
   "outputs": [],
   "source": [
    "# PLACEHOLDERS for the loss function\n",
    "preds = tf.placeholder(tf.float32, [None, 1])\n",
    "full_true = tf.placeholder(tf.float32, [None, 1])\n",
    "true = tf.placeholder(tf.float32, [None, 1])\n",
    "\n",
    "weights = tf.placeholder(tf.float32, [None, 1])"
   ]
  },
  {
   "cell_type": "code",
   "execution_count": null,
   "metadata": {},
   "outputs": [],
   "source": [
    "# And now let's creat a tensorflow thing that computes the mean squared error.\n",
    "# I could use the argument weigths to ignore the terms that dont have labels, provided it multiplies by zero. \n",
    "\n",
    "full_error = tf.losses.mean_squared_error(preds, full_true)\n",
    "nan_error = tf.losses.mean_squared_error(preds, true)\n",
    "nan_error_weights = tf.losses.mean_squared_error(preds, true, weights )\n",
    "\n",
    "# I found the solution! I need a boolean mask!\n",
    "\n",
    "boolean_error = tf.reduce_mean(tf.square(tf.boolean_mask(preds - true, tf.is_finite(true))))\n",
    "mean_err_mask = tf.losses.mean_squared_error(tf.boolean_mask(preds, tf.is_finite(true)), \n",
    "                                             tf.boolean_mask(true, tf.is_finite(true)) \n",
    "                                            )"
   ]
  },
  {
   "cell_type": "code",
   "execution_count": null,
   "metadata": {},
   "outputs": [],
   "source": [
    "# setting the values\n",
    "\n",
    "y_preds = (np.arange(5) + (2*np.random.rand(5) - 1)).reshape((-1,1)) # Randome values for my predictions.\n",
    "full_y_true = (np.arange(5) * 1.0).reshape((-1,1))\n",
    "\n",
    "y_true = np.arange(5) * 1.0 # true values\n",
    "y_true[[2,4] ]= np.nan\n",
    "y_true = y_true.reshape((-1,1))\n",
    "\n",
    "weight_vals = np.isfinite(y_true) *1"
   ]
  },
  {
   "cell_type": "code",
   "execution_count": null,
   "metadata": {},
   "outputs": [],
   "source": [
    "with tf.Session() as sess:\n",
    "    test = sess.run(tf.square(tf.boolean_mask(preds - true, tf.is_finite(preds-true))), \n",
    "             feed_dict={preds:y_preds, true:y_true})"
   ]
  },
  {
   "cell_type": "code",
   "execution_count": null,
   "metadata": {},
   "outputs": [],
   "source": [
    "test"
   ]
  },
  {
   "cell_type": "code",
   "execution_count": null,
   "metadata": {},
   "outputs": [],
   "source": [
    "init = tf.global_variables_initializer()"
   ]
  },
  {
   "cell_type": "code",
   "execution_count": null,
   "metadata": {},
   "outputs": [],
   "source": [
    "with tf.Session() as sess:\n",
    "    \n",
    "    sess.run(init)\n",
    "    \n",
    "    full = sess.run(full_error, feed_dict = {preds:y_preds, full_true:full_y_true } )\n",
    "    nan_e = sess.run(nan_error, feed_dict = {preds:y_preds, true:y_true } )\n",
    "    nan_e_weights = sess.run(nan_error, feed_dict = {preds:y_preds, true:y_true, weights:weight_vals } )\n",
    "    bool_err = sess.run(boolean_error, feed_dict = {preds:y_preds, true:y_true } )\n",
    "    full_bool_err = sess.run(boolean_error, feed_dict = {preds:y_preds, true:full_y_true } )\n",
    "    \n",
    "    "
   ]
  },
  {
   "cell_type": "code",
   "execution_count": null,
   "metadata": {
    "scrolled": true
   },
   "outputs": [],
   "source": [
    "print(nan_e, nan_e_weights, full, full_bool_err, bool_err)"
   ]
  },
  {
   "cell_type": "code",
   "execution_count": null,
   "metadata": {},
   "outputs": [],
   "source": [
    "import time"
   ]
  },
  {
   "cell_type": "code",
   "execution_count": null,
   "metadata": {},
   "outputs": [],
   "source": [
    "# Let's see which way is faster\n",
    "\n",
    "start_time = time.time()\n",
    "\n",
    "with tf.Session() as sess:\n",
    "    \n",
    "    sess.run(init)\n",
    "    \n",
    "    bool_err = sess.run(boolean_error, feed_dict = {preds:y_preds, true:y_true } )\n",
    "    \n",
    "duration = time.time() - start_time\n",
    "print('Time using custom function ', duration)\n",
    "print('Custom error: ', bool_err)"
   ]
  },
  {
   "cell_type": "code",
   "execution_count": null,
   "metadata": {},
   "outputs": [],
   "source": [
    "start_time = time.time()\n",
    "\n",
    "with tf.Session() as sess:\n",
    "    \n",
    "    sess.run(init)\n",
    "    \n",
    "    bool_err = sess.run(mean_err_mask, feed_dict = {preds:y_preds, true:y_true } )\n",
    "    \n",
    "duration = time.time() - start_time\n",
    "print('Time using built in mse', duration)\n",
    "print('Built in mse: ', bool_err)"
   ]
  },
  {
   "cell_type": "markdown",
   "metadata": {},
   "source": [
    "So the custom function is faster! It makes sense, because I am only applying the mask once. \n",
    "\n",
    "I think I have everything I need to try to implement the model. Maybe it is more practical to do this in a different notebook."
   ]
  },
  {
   "cell_type": "markdown",
   "metadata": {},
   "source": [
    "# Doubling the training set"
   ]
  },
  {
   "cell_type": "code",
   "execution_count": 3,
   "metadata": {},
   "outputs": [
    {
     "name": "stdout",
     "output_type": "stream",
     "text": [
      "<class 'pandas.core.frame.DataFrame'>\n",
      "RangeIndex: 7049 entries, 0 to 7048\n",
      "Data columns (total 31 columns):\n",
      "left_eye_center_x            7039 non-null float64\n",
      "left_eye_center_y            7039 non-null float64\n",
      "right_eye_center_x           7036 non-null float64\n",
      "right_eye_center_y           7036 non-null float64\n",
      "left_eye_inner_corner_x      2271 non-null float64\n",
      "left_eye_inner_corner_y      2271 non-null float64\n",
      "left_eye_outer_corner_x      2267 non-null float64\n",
      "left_eye_outer_corner_y      2267 non-null float64\n",
      "right_eye_inner_corner_x     2268 non-null float64\n",
      "right_eye_inner_corner_y     2268 non-null float64\n",
      "right_eye_outer_corner_x     2268 non-null float64\n",
      "right_eye_outer_corner_y     2268 non-null float64\n",
      "left_eyebrow_inner_end_x     2270 non-null float64\n",
      "left_eyebrow_inner_end_y     2270 non-null float64\n",
      "left_eyebrow_outer_end_x     2225 non-null float64\n",
      "left_eyebrow_outer_end_y     2225 non-null float64\n",
      "right_eyebrow_inner_end_x    2270 non-null float64\n",
      "right_eyebrow_inner_end_y    2270 non-null float64\n",
      "right_eyebrow_outer_end_x    2236 non-null float64\n",
      "right_eyebrow_outer_end_y    2236 non-null float64\n",
      "nose_tip_x                   7049 non-null float64\n",
      "nose_tip_y                   7049 non-null float64\n",
      "mouth_left_corner_x          2269 non-null float64\n",
      "mouth_left_corner_y          2269 non-null float64\n",
      "mouth_right_corner_x         2270 non-null float64\n",
      "mouth_right_corner_y         2270 non-null float64\n",
      "mouth_center_top_lip_x       2275 non-null float64\n",
      "mouth_center_top_lip_y       2275 non-null float64\n",
      "mouth_center_bottom_lip_x    7016 non-null float64\n",
      "mouth_center_bottom_lip_y    7016 non-null float64\n",
      "Image                        7049 non-null object\n",
      "dtypes: float64(30), object(1)\n",
      "memory usage: 1.7+ MB\n"
     ]
    }
   ],
   "source": [
    "source_data.info()"
   ]
  },
  {
   "cell_type": "code",
   "execution_count": 5,
   "metadata": {},
   "outputs": [],
   "source": [
    "images = source_data['Image'].apply(lambda str_pic: np.array([int(px) for px in str_pic.split()]))\n",
    "\n",
    "images = np.vstack([images.iloc[i] for i in range(len(images))])"
   ]
  },
  {
   "cell_type": "code",
   "execution_count": 95,
   "metadata": {},
   "outputs": [],
   "source": [
    "test_images = images[0,:]"
   ]
  },
  {
   "cell_type": "code",
   "execution_count": 96,
   "metadata": {},
   "outputs": [
    {
     "data": {
      "text/plain": [
       "(9216,)"
      ]
     },
     "execution_count": 96,
     "metadata": {},
     "output_type": "execute_result"
    }
   ],
   "source": [
    "test_images.shape"
   ]
  },
  {
   "cell_type": "code",
   "execution_count": 117,
   "metadata": {},
   "outputs": [],
   "source": [
    "flipped_im = np.zeros(images.shape)\n",
    "for j in range(images.shape[0]):\n",
    "    for i in range(96):\n",
    "        flipped_im[j,i*96:(i+1)*96] = np.flip(images[j,i*96:(i+1)*96])"
   ]
  },
  {
   "cell_type": "code",
   "execution_count": 118,
   "metadata": {},
   "outputs": [
    {
     "data": {
      "text/plain": [
       "(7049, 9216)"
      ]
     },
     "execution_count": 118,
     "metadata": {},
     "output_type": "execute_result"
    }
   ],
   "source": [
    "flipped_im.shape"
   ]
  },
  {
   "cell_type": "code",
   "execution_count": 120,
   "metadata": {},
   "outputs": [
    {
     "data": {
      "text/plain": [
       "<matplotlib.image.AxesImage at 0x7f623426af60>"
      ]
     },
     "execution_count": 120,
     "metadata": {},
     "output_type": "execute_result"
    },
    {
     "data": {
      "image/png": "[encoded data removed]",
      "text/plain": [
       "<Figure size 432x288 with 1 Axes>"
      ]
     },
     "metadata": {
      "needs_background": "light"
     },
     "output_type": "display_data"
    }
   ],
   "source": [
    "plt.imshow(flipped_im[37].reshape(96,96))"
   ]
  },
  {
   "cell_type": "code",
   "execution_count": 122,
   "metadata": {},
   "outputs": [],
   "source": [
    "full_images = np.vstack((images, flipped_im))"
   ]
  },
  {
   "cell_type": "code",
   "execution_count": 123,
   "metadata": {},
   "outputs": [
    {
     "data": {
      "text/plain": [
       "(14098, 9216)"
      ]
     },
     "execution_count": 123,
     "metadata": {},
     "output_type": "execute_result"
    }
   ],
   "source": [
    "full_images.shape"
   ]
  },
  {
   "cell_type": "code",
   "execution_count": 128,
   "metadata": {},
   "outputs": [],
   "source": [
    "all_keypoints = pd.concat([keypoints,reflected_keypoints], ignore_index=True)"
   ]
  },
  {
   "cell_type": "code",
   "execution_count": 129,
   "metadata": {},
   "outputs": [
    {
     "data": {
      "text/html": [
       "<div>\n",
       "<style scoped>\n",
       "    .dataframe tbody tr th:only-of-type {\n",
       "        vertical-align: middle;\n",
       "    }\n",
       "\n",
       "    .dataframe tbody tr th {\n",
       "        vertical-align: top;\n",
       "    }\n",
       "\n",
       "    .dataframe thead th {\n",
       "        text-align: right;\n",
       "    }\n",
       "</style>\n",
       "<table border=\"1\" class=\"dataframe\">\n",
       "  <thead>\n",
       "    <tr style=\"text-align: right;\">\n",
       "      <th></th>\n",
       "      <th>left_eye_center_x</th>\n",
       "      <th>left_eye_center_y</th>\n",
       "      <th>right_eye_center_x</th>\n",
       "      <th>right_eye_center_y</th>\n",
       "      <th>left_eye_inner_corner_x</th>\n",
       "      <th>left_eye_inner_corner_y</th>\n",
       "      <th>left_eye_outer_corner_x</th>\n",
       "      <th>left_eye_outer_corner_y</th>\n",
       "      <th>right_eye_inner_corner_x</th>\n",
       "      <th>right_eye_inner_corner_y</th>\n",
       "      <th>...</th>\n",
       "      <th>nose_tip_x</th>\n",
       "      <th>nose_tip_y</th>\n",
       "      <th>mouth_left_corner_x</th>\n",
       "      <th>mouth_left_corner_y</th>\n",
       "      <th>mouth_right_corner_x</th>\n",
       "      <th>mouth_right_corner_y</th>\n",
       "      <th>mouth_center_top_lip_x</th>\n",
       "      <th>mouth_center_top_lip_y</th>\n",
       "      <th>mouth_center_bottom_lip_x</th>\n",
       "      <th>mouth_center_bottom_lip_y</th>\n",
       "    </tr>\n",
       "  </thead>\n",
       "  <tbody>\n",
       "    <tr>\n",
       "      <th>7045</th>\n",
       "      <td>66.134400</td>\n",
       "      <td>38.365501</td>\n",
       "      <td>30.478626</td>\n",
       "      <td>39.950198</td>\n",
       "      <td>NaN</td>\n",
       "      <td>NaN</td>\n",
       "      <td>NaN</td>\n",
       "      <td>NaN</td>\n",
       "      <td>NaN</td>\n",
       "      <td>NaN</td>\n",
       "      <td>...</td>\n",
       "      <td>47.910346</td>\n",
       "      <td>66.626011</td>\n",
       "      <td>NaN</td>\n",
       "      <td>NaN</td>\n",
       "      <td>NaN</td>\n",
       "      <td>NaN</td>\n",
       "      <td>NaN</td>\n",
       "      <td>NaN</td>\n",
       "      <td>50.287397</td>\n",
       "      <td>77.983023</td>\n",
       "    </tr>\n",
       "    <tr>\n",
       "      <th>7046</th>\n",
       "      <td>66.690732</td>\n",
       "      <td>36.845221</td>\n",
       "      <td>31.666420</td>\n",
       "      <td>39.685042</td>\n",
       "      <td>NaN</td>\n",
       "      <td>NaN</td>\n",
       "      <td>NaN</td>\n",
       "      <td>NaN</td>\n",
       "      <td>NaN</td>\n",
       "      <td>NaN</td>\n",
       "      <td>...</td>\n",
       "      <td>49.462572</td>\n",
       "      <td>67.515161</td>\n",
       "      <td>NaN</td>\n",
       "      <td>NaN</td>\n",
       "      <td>NaN</td>\n",
       "      <td>NaN</td>\n",
       "      <td>NaN</td>\n",
       "      <td>NaN</td>\n",
       "      <td>49.462572</td>\n",
       "      <td>78.117120</td>\n",
       "    </tr>\n",
       "    <tr>\n",
       "      <th>7047</th>\n",
       "      <td>70.965082</td>\n",
       "      <td>39.853666</td>\n",
       "      <td>30.543285</td>\n",
       "      <td>40.772339</td>\n",
       "      <td>NaN</td>\n",
       "      <td>NaN</td>\n",
       "      <td>NaN</td>\n",
       "      <td>NaN</td>\n",
       "      <td>NaN</td>\n",
       "      <td>NaN</td>\n",
       "      <td>...</td>\n",
       "      <td>50.754202</td>\n",
       "      <td>66.724988</td>\n",
       "      <td>NaN</td>\n",
       "      <td>NaN</td>\n",
       "      <td>NaN</td>\n",
       "      <td>NaN</td>\n",
       "      <td>NaN</td>\n",
       "      <td>NaN</td>\n",
       "      <td>50.065186</td>\n",
       "      <td>79.586447</td>\n",
       "    </tr>\n",
       "    <tr>\n",
       "      <th>7048</th>\n",
       "      <td>66.938311</td>\n",
       "      <td>43.424510</td>\n",
       "      <td>31.096059</td>\n",
       "      <td>39.528604</td>\n",
       "      <td>NaN</td>\n",
       "      <td>NaN</td>\n",
       "      <td>NaN</td>\n",
       "      <td>NaN</td>\n",
       "      <td>NaN</td>\n",
       "      <td>NaN</td>\n",
       "      <td>...</td>\n",
       "      <td>47.069250</td>\n",
       "      <td>73.033339</td>\n",
       "      <td>NaN</td>\n",
       "      <td>NaN</td>\n",
       "      <td>NaN</td>\n",
       "      <td>NaN</td>\n",
       "      <td>NaN</td>\n",
       "      <td>NaN</td>\n",
       "      <td>45.900480</td>\n",
       "      <td>82.773096</td>\n",
       "    </tr>\n",
       "    <tr>\n",
       "      <th>7049</th>\n",
       "      <td>64.772992</td>\n",
       "      <td>36.421678</td>\n",
       "      <td>28.966436</td>\n",
       "      <td>39.002274</td>\n",
       "      <td>58.643429</td>\n",
       "      <td>37.389402</td>\n",
       "      <td>71.547128</td>\n",
       "      <td>37.389402</td>\n",
       "      <td>35.417925</td>\n",
       "      <td>39.647423</td>\n",
       "      <td>...</td>\n",
       "      <td>50.579429</td>\n",
       "      <td>57.066803</td>\n",
       "      <td>66.385504</td>\n",
       "      <td>77.388992</td>\n",
       "      <td>33.804692</td>\n",
       "      <td>79.970165</td>\n",
       "      <td>51.687398</td>\n",
       "      <td>72.935459</td>\n",
       "      <td>51.869293</td>\n",
       "      <td>84.485774</td>\n",
       "    </tr>\n",
       "    <tr>\n",
       "      <th>7050</th>\n",
       "      <td>65.050723</td>\n",
       "      <td>33.448715</td>\n",
       "      <td>30.667064</td>\n",
       "      <td>34.970077</td>\n",
       "      <td>58.965277</td>\n",
       "      <td>34.361532</td>\n",
       "      <td>70.527489</td>\n",
       "      <td>33.144443</td>\n",
       "      <td>36.143830</td>\n",
       "      <td>35.274349</td>\n",
       "      <td>...</td>\n",
       "      <td>46.793702</td>\n",
       "      <td>55.660936</td>\n",
       "      <td>59.877617</td>\n",
       "      <td>76.047660</td>\n",
       "      <td>38.578553</td>\n",
       "      <td>76.352000</td>\n",
       "      <td>48.315404</td>\n",
       "      <td>70.266553</td>\n",
       "      <td>49.532085</td>\n",
       "      <td>85.480170</td>\n",
       "    </tr>\n",
       "    <tr>\n",
       "      <th>7051</th>\n",
       "      <td>64.096211</td>\n",
       "      <td>34.909642</td>\n",
       "      <td>29.942947</td>\n",
       "      <td>34.909642</td>\n",
       "      <td>57.321895</td>\n",
       "      <td>36.320968</td>\n",
       "      <td>70.023579</td>\n",
       "      <td>36.603221</td>\n",
       "      <td>35.588000</td>\n",
       "      <td>36.320968</td>\n",
       "      <td>...</td>\n",
       "      <td>47.442737</td>\n",
       "      <td>53.538947</td>\n",
       "      <td>61.273684</td>\n",
       "      <td>72.732000</td>\n",
       "      <td>34.177053</td>\n",
       "      <td>73.014316</td>\n",
       "      <td>47.725053</td>\n",
       "      <td>70.191789</td>\n",
       "      <td>47.725053</td>\n",
       "      <td>78.659368</td>\n",
       "    </tr>\n",
       "    <tr>\n",
       "      <th>7052</th>\n",
       "      <td>62.976904</td>\n",
       "      <td>37.261774</td>\n",
       "      <td>29.774261</td>\n",
       "      <td>37.261774</td>\n",
       "      <td>57.381357</td>\n",
       "      <td>38.754115</td>\n",
       "      <td>69.692730</td>\n",
       "      <td>38.007903</td>\n",
       "      <td>34.996661</td>\n",
       "      <td>39.127179</td>\n",
       "      <td>...</td>\n",
       "      <td>43.114922</td>\n",
       "      <td>54.166539</td>\n",
       "      <td>57.754504</td>\n",
       "      <td>74.195478</td>\n",
       "      <td>29.401113</td>\n",
       "      <td>72.703722</td>\n",
       "      <td>44.696835</td>\n",
       "      <td>70.091687</td>\n",
       "      <td>43.438817</td>\n",
       "      <td>78.268383</td>\n",
       "    </tr>\n",
       "    <tr>\n",
       "      <th>7053</th>\n",
       "      <td>62.755190</td>\n",
       "      <td>38.042032</td>\n",
       "      <td>28.274699</td>\n",
       "      <td>39.621261</td>\n",
       "      <td>58.017620</td>\n",
       "      <td>39.094852</td>\n",
       "      <td>72.493890</td>\n",
       "      <td>38.305237</td>\n",
       "      <td>36.434110</td>\n",
       "      <td>39.621261</td>\n",
       "      <td>...</td>\n",
       "      <td>51.700466</td>\n",
       "      <td>64.889521</td>\n",
       "      <td>63.808245</td>\n",
       "      <td>76.997301</td>\n",
       "      <td>34.328589</td>\n",
       "      <td>77.523239</td>\n",
       "      <td>50.037252</td>\n",
       "      <td>73.707387</td>\n",
       "      <td>50.772859</td>\n",
       "      <td>86.871166</td>\n",
       "    </tr>\n",
       "    <tr>\n",
       "      <th>7054</th>\n",
       "      <td>65.816449</td>\n",
       "      <td>37.563364</td>\n",
       "      <td>25.319252</td>\n",
       "      <td>39.968748</td>\n",
       "      <td>58.598953</td>\n",
       "      <td>39.367626</td>\n",
       "      <td>73.234467</td>\n",
       "      <td>38.565533</td>\n",
       "      <td>32.135701</td>\n",
       "      <td>40.169271</td>\n",
       "      <td>...</td>\n",
       "      <td>42.531514</td>\n",
       "      <td>58.800000</td>\n",
       "      <td>63.009570</td>\n",
       "      <td>81.669084</td>\n",
       "      <td>30.130916</td>\n",
       "      <td>82.471178</td>\n",
       "      <td>45.691888</td>\n",
       "      <td>78.487626</td>\n",
       "      <td>45.567626</td>\n",
       "      <td>93.898766</td>\n",
       "    </tr>\n",
       "    <tr>\n",
       "      <th>7055</th>\n",
       "      <td>65.421047</td>\n",
       "      <td>33.138040</td>\n",
       "      <td>30.868134</td>\n",
       "      <td>34.290040</td>\n",
       "      <td>60.238336</td>\n",
       "      <td>33.714040</td>\n",
       "      <td>70.891758</td>\n",
       "      <td>33.138040</td>\n",
       "      <td>37.202846</td>\n",
       "      <td>35.154040</td>\n",
       "      <td>...</td>\n",
       "      <td>48.144913</td>\n",
       "      <td>53.006174</td>\n",
       "      <td>61.101691</td>\n",
       "      <td>70.282953</td>\n",
       "      <td>39.218201</td>\n",
       "      <td>70.570953</td>\n",
       "      <td>49.872268</td>\n",
       "      <td>65.099597</td>\n",
       "      <td>49.584268</td>\n",
       "      <td>78.057020</td>\n",
       "    </tr>\n",
       "    <tr>\n",
       "      <th>7056</th>\n",
       "      <td>65.644039</td>\n",
       "      <td>39.621717</td>\n",
       "      <td>27.531107</td>\n",
       "      <td>39.413452</td>\n",
       "      <td>57.521786</td>\n",
       "      <td>40.454773</td>\n",
       "      <td>73.974602</td>\n",
       "      <td>40.038245</td>\n",
       "      <td>35.445049</td>\n",
       "      <td>40.454773</td>\n",
       "      <td>...</td>\n",
       "      <td>47.108117</td>\n",
       "      <td>56.907961</td>\n",
       "      <td>64.810796</td>\n",
       "      <td>81.275184</td>\n",
       "      <td>28.156039</td>\n",
       "      <td>80.025786</td>\n",
       "      <td>46.899806</td>\n",
       "      <td>71.278602</td>\n",
       "      <td>46.483184</td>\n",
       "      <td>91.063922</td>\n",
       "    </tr>\n",
       "    <tr>\n",
       "      <th>7057</th>\n",
       "      <td>67.524160</td>\n",
       "      <td>36.185600</td>\n",
       "      <td>29.197120</td>\n",
       "      <td>34.755200</td>\n",
       "      <td>58.657600</td>\n",
       "      <td>37.043200</td>\n",
       "      <td>74.674880</td>\n",
       "      <td>37.615360</td>\n",
       "      <td>36.347840</td>\n",
       "      <td>37.329280</td>\n",
       "      <td>...</td>\n",
       "      <td>46.930240</td>\n",
       "      <td>55.348480</td>\n",
       "      <td>63.805760</td>\n",
       "      <td>74.798080</td>\n",
       "      <td>29.483200</td>\n",
       "      <td>73.368320</td>\n",
       "      <td>45.786560</td>\n",
       "      <td>67.648000</td>\n",
       "      <td>45.500480</td>\n",
       "      <td>83.093120</td>\n",
       "    </tr>\n",
       "    <tr>\n",
       "      <th>7058</th>\n",
       "      <td>65.531077</td>\n",
       "      <td>38.390154</td>\n",
       "      <td>30.878769</td>\n",
       "      <td>36.740308</td>\n",
       "      <td>58.655385</td>\n",
       "      <td>39.490462</td>\n",
       "      <td>72.131692</td>\n",
       "      <td>40.040615</td>\n",
       "      <td>36.379077</td>\n",
       "      <td>37.840615</td>\n",
       "      <td>...</td>\n",
       "      <td>46.004923</td>\n",
       "      <td>54.341538</td>\n",
       "      <td>62.230769</td>\n",
       "      <td>72.217846</td>\n",
       "      <td>29.228308</td>\n",
       "      <td>69.192615</td>\n",
       "      <td>45.729846</td>\n",
       "      <td>67.542769</td>\n",
       "      <td>45.454769</td>\n",
       "      <td>76.893538</td>\n",
       "    </tr>\n",
       "    <tr>\n",
       "      <th>7059</th>\n",
       "      <td>66.197283</td>\n",
       "      <td>33.937811</td>\n",
       "      <td>29.769811</td>\n",
       "      <td>34.342642</td>\n",
       "      <td>60.530566</td>\n",
       "      <td>35.152302</td>\n",
       "      <td>70.649509</td>\n",
       "      <td>35.557132</td>\n",
       "      <td>36.246189</td>\n",
       "      <td>35.557132</td>\n",
       "      <td>...</td>\n",
       "      <td>47.578717</td>\n",
       "      <td>51.746717</td>\n",
       "      <td>60.935396</td>\n",
       "      <td>70.770113</td>\n",
       "      <td>37.865509</td>\n",
       "      <td>71.579774</td>\n",
       "      <td>48.530566</td>\n",
       "      <td>65.260075</td>\n",
       "      <td>48.793208</td>\n",
       "      <td>81.697811</td>\n",
       "    </tr>\n",
       "  </tbody>\n",
       "</table>\n",
       "<p>15 rows × 30 columns</p>\n",
       "</div>"
      ],
      "text/plain": [
       "      left_eye_center_x  left_eye_center_y  right_eye_center_x  \\\n",
       "7045          66.134400          38.365501           30.478626   \n",
       "7046          66.690732          36.845221           31.666420   \n",
       "7047          70.965082          39.853666           30.543285   \n",
       "7048          66.938311          43.424510           31.096059   \n",
       "7049          64.772992          36.421678           28.966436   \n",
       "7050          65.050723          33.448715           30.667064   \n",
       "7051          64.096211          34.909642           29.942947   \n",
       "7052          62.976904          37.261774           29.774261   \n",
       "7053          62.755190          38.042032           28.274699   \n",
       "7054          65.816449          37.563364           25.319252   \n",
       "7055          65.421047          33.138040           30.868134   \n",
       "7056          65.644039          39.621717           27.531107   \n",
       "7057          67.524160          36.185600           29.197120   \n",
       "7058          65.531077          38.390154           30.878769   \n",
       "7059          66.197283          33.937811           29.769811   \n",
       "\n",
       "      right_eye_center_y  left_eye_inner_corner_x  left_eye_inner_corner_y  \\\n",
       "7045           39.950198                      NaN                      NaN   \n",
       "7046           39.685042                      NaN                      NaN   \n",
       "7047           40.772339                      NaN                      NaN   \n",
       "7048           39.528604                      NaN                      NaN   \n",
       "7049           39.002274                58.643429                37.389402   \n",
       "7050           34.970077                58.965277                34.361532   \n",
       "7051           34.909642                57.321895                36.320968   \n",
       "7052           37.261774                57.381357                38.754115   \n",
       "7053           39.621261                58.017620                39.094852   \n",
       "7054           39.968748                58.598953                39.367626   \n",
       "7055           34.290040                60.238336                33.714040   \n",
       "7056           39.413452                57.521786                40.454773   \n",
       "7057           34.755200                58.657600                37.043200   \n",
       "7058           36.740308                58.655385                39.490462   \n",
       "7059           34.342642                60.530566                35.152302   \n",
       "\n",
       "      left_eye_outer_corner_x  left_eye_outer_corner_y  \\\n",
       "7045                      NaN                      NaN   \n",
       "7046                      NaN                      NaN   \n",
       "7047                      NaN                      NaN   \n",
       "7048                      NaN                      NaN   \n",
       "7049                71.547128                37.389402   \n",
       "7050                70.527489                33.144443   \n",
       "7051                70.023579                36.603221   \n",
       "7052                69.692730                38.007903   \n",
       "7053                72.493890                38.305237   \n",
       "7054                73.234467                38.565533   \n",
       "7055                70.891758                33.138040   \n",
       "7056                73.974602                40.038245   \n",
       "7057                74.674880                37.615360   \n",
       "7058                72.131692                40.040615   \n",
       "7059                70.649509                35.557132   \n",
       "\n",
       "      right_eye_inner_corner_x  right_eye_inner_corner_y  ...  nose_tip_x  \\\n",
       "7045                       NaN                       NaN  ...   47.910346   \n",
       "7046                       NaN                       NaN  ...   49.462572   \n",
       "7047                       NaN                       NaN  ...   50.754202   \n",
       "7048                       NaN                       NaN  ...   47.069250   \n",
       "7049                 35.417925                 39.647423  ...   50.579429   \n",
       "7050                 36.143830                 35.274349  ...   46.793702   \n",
       "7051                 35.588000                 36.320968  ...   47.442737   \n",
       "7052                 34.996661                 39.127179  ...   43.114922   \n",
       "7053                 36.434110                 39.621261  ...   51.700466   \n",
       "7054                 32.135701                 40.169271  ...   42.531514   \n",
       "7055                 37.202846                 35.154040  ...   48.144913   \n",
       "7056                 35.445049                 40.454773  ...   47.108117   \n",
       "7057                 36.347840                 37.329280  ...   46.930240   \n",
       "7058                 36.379077                 37.840615  ...   46.004923   \n",
       "7059                 36.246189                 35.557132  ...   47.578717   \n",
       "\n",
       "      nose_tip_y  mouth_left_corner_x  mouth_left_corner_y  \\\n",
       "7045   66.626011                  NaN                  NaN   \n",
       "7046   67.515161                  NaN                  NaN   \n",
       "7047   66.724988                  NaN                  NaN   \n",
       "7048   73.033339                  NaN                  NaN   \n",
       "7049   57.066803            66.385504            77.388992   \n",
       "7050   55.660936            59.877617            76.047660   \n",
       "7051   53.538947            61.273684            72.732000   \n",
       "7052   54.166539            57.754504            74.195478   \n",
       "7053   64.889521            63.808245            76.997301   \n",
       "7054   58.800000            63.009570            81.669084   \n",
       "7055   53.006174            61.101691            70.282953   \n",
       "7056   56.907961            64.810796            81.275184   \n",
       "7057   55.348480            63.805760            74.798080   \n",
       "7058   54.341538            62.230769            72.217846   \n",
       "7059   51.746717            60.935396            70.770113   \n",
       "\n",
       "      mouth_right_corner_x  mouth_right_corner_y  mouth_center_top_lip_x  \\\n",
       "7045                   NaN                   NaN                     NaN   \n",
       "7046                   NaN                   NaN                     NaN   \n",
       "7047                   NaN                   NaN                     NaN   \n",
       "7048                   NaN                   NaN                     NaN   \n",
       "7049             33.804692             79.970165               51.687398   \n",
       "7050             38.578553             76.352000               48.315404   \n",
       "7051             34.177053             73.014316               47.725053   \n",
       "7052             29.401113             72.703722               44.696835   \n",
       "7053             34.328589             77.523239               50.037252   \n",
       "7054             30.130916             82.471178               45.691888   \n",
       "7055             39.218201             70.570953               49.872268   \n",
       "7056             28.156039             80.025786               46.899806   \n",
       "7057             29.483200             73.368320               45.786560   \n",
       "7058             29.228308             69.192615               45.729846   \n",
       "7059             37.865509             71.579774               48.530566   \n",
       "\n",
       "      mouth_center_top_lip_y  mouth_center_bottom_lip_x  \\\n",
       "7045                     NaN                  50.287397   \n",
       "7046                     NaN                  49.462572   \n",
       "7047                     NaN                  50.065186   \n",
       "7048                     NaN                  45.900480   \n",
       "7049               72.935459                  51.869293   \n",
       "7050               70.266553                  49.532085   \n",
       "7051               70.191789                  47.725053   \n",
       "7052               70.091687                  43.438817   \n",
       "7053               73.707387                  50.772859   \n",
       "7054               78.487626                  45.567626   \n",
       "7055               65.099597                  49.584268   \n",
       "7056               71.278602                  46.483184   \n",
       "7057               67.648000                  45.500480   \n",
       "7058               67.542769                  45.454769   \n",
       "7059               65.260075                  48.793208   \n",
       "\n",
       "      mouth_center_bottom_lip_y  \n",
       "7045                  77.983023  \n",
       "7046                  78.117120  \n",
       "7047                  79.586447  \n",
       "7048                  82.773096  \n",
       "7049                  84.485774  \n",
       "7050                  85.480170  \n",
       "7051                  78.659368  \n",
       "7052                  78.268383  \n",
       "7053                  86.871166  \n",
       "7054                  93.898766  \n",
       "7055                  78.057020  \n",
       "7056                  91.063922  \n",
       "7057                  83.093120  \n",
       "7058                  76.893538  \n",
       "7059                  81.697811  \n",
       "\n",
       "[15 rows x 30 columns]"
      ]
     },
     "execution_count": 129,
     "metadata": {},
     "output_type": "execute_result"
    }
   ],
   "source": [
    "all_keypoints.iloc[7045:7060]"
   ]
  },
  {
   "cell_type": "code",
   "execution_count": 6,
   "metadata": {},
   "outputs": [],
   "source": [
    "keypoints = source_data.drop('Image', axis = 1)"
   ]
  },
  {
   "cell_type": "code",
   "execution_count": 7,
   "metadata": {},
   "outputs": [],
   "source": [
    "test_im = images[0]\n",
    "test_keypoints = keypoints.iloc[0]"
   ]
  },
  {
   "cell_type": "code",
   "execution_count": 14,
   "metadata": {},
   "outputs": [],
   "source": [
    "pic = test_im.reshape(96,96)\n"
   ]
  },
  {
   "cell_type": "code",
   "execution_count": 75,
   "metadata": {},
   "outputs": [],
   "source": [
    "reflected_keypoints = pd.DataFrame(columns = keypoints.columns)\n",
    "\n",
    "# It may be easier to make a for loop by looking at the strings. \n",
    "for colname in reflected_keypoints.columns:\n",
    "    if 'left' in colname:\n",
    "        reference_col = colname.replace('left', 'right')\n",
    "    elif 'right' in colname:\n",
    "        reference_col = colname.replace('right','left')\n",
    "    else:\n",
    "        reference_col = colname\n",
    "        \n",
    "    # Assigning values and reflecting x coordinates\n",
    "    #reflected_keypoints[colname] = keypoints[reference_col].apply(lambda x: 95-x if colname[-1]=='x' else x)\n",
    "    #the one-line version is fine but I think separating is more readable.\n",
    "    \n",
    "    reflected_keypoints[colname] = keypoints[reference_col]\n",
    "    if colname[-1] == 'x':\n",
    "        reflected_keypoints[colname] = reflected_keypoints[colname].apply(lambda x: 95-x)   "
   ]
  },
  {
   "cell_type": "code",
   "execution_count": 90,
   "metadata": {
    "scrolled": false
   },
   "outputs": [
    {
     "data": {
      "text/plain": [
       "[<matplotlib.lines.Line2D at 0x7f62345a16d8>]"
      ]
     },
     "execution_count": 90,
     "metadata": {},
     "output_type": "execute_result"
    },
    {
     "data": {
      "image/png": "[encoded data removed]",
      "text/plain": [
       "<Figure size 504x504 with 2 Axes>"
      ]
     },
     "metadata": {
      "needs_background": "light"
     },
     "output_type": "display_data"
    }
   ],
   "source": [
    "n = 7033 #chose image index\n",
    "fig, axes = plt.subplots(1, 2, gridspec_kw = dict(hspace = .05, wspace = .05), \n",
    "                         figsize=(7,7))\n",
    "\n",
    "axes[0].axis('off')\n",
    "axes[1].axis('off')\n",
    "\n",
    "axes[0].imshow(images[n].reshape(96,96),cmap='gist_gray')\n",
    "x_points = [keypoints.iloc[n][j] for j in range(0,30,2)]\n",
    "y_points = [keypoints.iloc[n][j+1] for j in range(0,30,2)] \n",
    "\n",
    "axes[0].plot(x_points, y_points, 'ro', markerfacecolor = 'none')\n",
    "\n",
    "axes[1].imshow(np.flip(images[n].reshape(96,96),1),cmap='gist_gray')\n",
    "\n",
    "R_x_points = [reflected_keypoints.iloc[n][j] for j in range(0,30,2)]\n",
    "R_y_points = [reflected_keypoints.iloc[n][j+1] for j in range(0,30,2)] \n",
    "\n",
    "\n",
    "axes[1].plot(R_x_points, R_y_points, 'bo', markerfacecolor = 'none')\n",
    "\n"
   ]
  },
  {
   "cell_type": "code",
   "execution_count": null,
   "metadata": {},
   "outputs": [],
   "source": []
  }
 ],
 "metadata": {
  "anaconda-cloud": {},
  "kernelspec": {
   "display_name": "Python 3",
   "language": "python",
   "name": "python3"
  },
  "language_info": {
   "codemirror_mode": {
    "name": "ipython",
    "version": 3
   },
   "file_extension": ".py",
   "mimetype": "text/x-python",
   "name": "python",
   "nbconvert_exporter": "python",
   "pygments_lexer": "ipython3",
   "version": "3.7.3"
  }
 },
 "nbformat": 4,
 "nbformat_minor": 2
}
