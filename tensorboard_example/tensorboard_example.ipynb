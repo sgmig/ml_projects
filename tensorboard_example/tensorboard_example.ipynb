{
 "cells": [
  {
   "cell_type": "markdown",
   "metadata": {},
   "source": [
    "# Testing tensorboard summaries\n",
    "\n",
    "A short notebook for practicing using Tensorflow's summaries and Tensorboard.\n",
    " "
   ]
  },
  {
   "cell_type": "markdown",
   "metadata": {},
   "source": [
    "## Imports"
   ]
  },
  {
   "cell_type": "code",
   "execution_count": 1,
   "metadata": {},
   "outputs": [],
   "source": [
    "import numpy as np\n",
    "import tensorflow as tf\n",
    "import matplotlib.pyplot as plt\n",
    "from sklearn.model_selection import train_test_split\n",
    "from IPython.display import display, clear_output\n",
    "\n",
    "%matplotlib inline"
   ]
  },
  {
   "cell_type": "markdown",
   "metadata": {},
   "source": [
    "I will build a simple linear regression problem, and see if I can keep track of the errors, the inferred slope and bias, and the hyperparameters (learning_rate, batch_size ...)."
   ]
  },
  {
   "cell_type": "markdown",
   "metadata": {},
   "source": [
    "## Generating data"
   ]
  },
  {
   "cell_type": "code",
   "execution_count": 2,
   "metadata": {},
   "outputs": [],
   "source": [
    "#Some random values for the true slope and bias. \n",
    "m_true = np.random.uniform(7)\n",
    "b_true = np.random.uniform(5)"
   ]
  },
  {
   "cell_type": "code",
   "execution_count": 3,
   "metadata": {},
   "outputs": [],
   "source": [
    "# A set of inputs 'x', and the true outputs, which have some noise. \n",
    "\n",
    "x = np.random.uniform(100, size= (1000,1))\n",
    "noise = 10 * np.random.normal(size = x.shape)\n",
    "y = m_true * x + b_true + noise"
   ]
  },
  {
   "cell_type": "markdown",
   "metadata": {},
   "source": [
    "### Look at the generated data "
   ]
  },
  {
   "cell_type": "code",
   "execution_count": 4,
   "metadata": {
    "scrolled": true
   },
   "outputs": [
    {
     "data": {
      "image/png": "[encoded data removed]",
      "text/plain": [
       "<Figure size 432x288 with 1 Axes>"
      ]
     },
     "metadata": {
      "needs_background": "light"
     },
     "output_type": "display_data"
    }
   ],
   "source": [
    "plt.plot(x.flatten() , y.flatten(), '.')\n",
    "plt.title('Generated dataset.')\n",
    "plt.xlabel('x');\n",
    "plt.ylabel('y');"
   ]
  },
  {
   "cell_type": "markdown",
   "metadata": {},
   "source": [
    "### Splitting into test and validation set"
   ]
  },
  {
   "cell_type": "code",
   "execution_count": 5,
   "metadata": {},
   "outputs": [],
   "source": [
    "# Splitting into training and test set.\n",
    "\n",
    "X_train, X_test, y_train, y_test = train_test_split(x, y, test_size=0.3, random_state=42)"
   ]
  },
  {
   "cell_type": "markdown",
   "metadata": {},
   "source": [
    "###  A function for taking random batches"
   ]
  },
  {
   "cell_type": "code",
   "execution_count": 6,
   "metadata": {},
   "outputs": [],
   "source": [
    "def next_batch(X, labels, batch_size):\n",
    "    \"\"\" A function for generating training batches. \n",
    "    X = Collection of examples.\n",
    "    labels = True labels. \n",
    "    batch_size = Number of elements to be randomly selected. \"\"\"\n",
    "    \n",
    "    sample_indices = np.random.choice(range(len(X)), size = batch_size, \n",
    "                                      replace = False)\n",
    "    \n",
    "    x_selected = X[sample_indices]\n",
    "    y_selected = labels[sample_indices]\n",
    "        \n",
    "    return x_selected, y_selected"
   ]
  },
  {
   "cell_type": "markdown",
   "metadata": {},
   "source": [
    "### Building the graph"
   ]
  },
  {
   "cell_type": "code",
   "execution_count": 7,
   "metadata": {},
   "outputs": [],
   "source": [
    "tf.reset_default_graph()"
   ]
  },
  {
   "cell_type": "code",
   "execution_count": 8,
   "metadata": {},
   "outputs": [],
   "source": [
    "# PLACEHOLDERS\n",
    "\n",
    "# x-points, y-points and learning rate\n",
    "points = tf.placeholder(tf.float32, [None, 1], name = 'x_points')\n",
    "y_true = tf.placeholder(tf.float32, [None, 1], name = 'y_true')\n",
    "lr = tf.placeholder(tf.float32, name = 'learning_rate')\n",
    "\n",
    "# a text tensor to keep track of hyperparameters, and the summary node. \n",
    "with tf.variable_scope('parameter_logs'):\n",
    "    parameter_log_ph = tf.placeholder(tf.string,[None,2], name='ph')\n",
    "    parameter_log = tf.summary.text('summary_node', parameter_log_ph)\n"
   ]
  },
  {
   "cell_type": "code",
   "execution_count": 9,
   "metadata": {
    "scrolled": false
   },
   "outputs": [
    {
     "name": "stdout",
     "output_type": "stream",
     "text": [
      "WARNING:tensorflow:From /home/ubuntu/anaconda3/lib/python3.7/site-packages/tensorflow/python/framework/op_def_library.py:263: colocate_with (from tensorflow.python.framework.ops) is deprecated and will be removed in a future version.\n",
      "Instructions for updating:\n",
      "Colocations handled automatically by placer.\n"
     ]
    }
   ],
   "source": [
    "# Linear model: Generating slope and bias and computing the output. \n",
    "\n",
    "with tf.variable_scope('linear_model'):\n",
    "    with tf.variable_scope('parameters'):\n",
    "        m_var = tf.get_variable(name = 'slope', shape = (), initializer=tf.initializers.random_normal())\n",
    "        b_var = tf.get_variable(name = 'bias', shape = (), initializer=tf.initializers.random_normal())\n",
    "    \n",
    "    with tf.variable_scope('output'):\n",
    "        output = tf.add(tf.multiply(m_var, points), b_var)\n",
    "\n",
    "# Summaries to track the evolution of slope and bias. \n",
    "slope_summ = tf.summary.scalar('slope_summary', m_var)\n",
    "bias_summ = tf.summary.scalar('bias_summay', b_var)\n",
    "\n"
   ]
  },
  {
   "cell_type": "code",
   "execution_count": 10,
   "metadata": {},
   "outputs": [
    {
     "name": "stdout",
     "output_type": "stream",
     "text": [
      "WARNING:tensorflow:From /home/ubuntu/anaconda3/lib/python3.7/site-packages/tensorflow/python/ops/losses/losses_impl.py:667: to_float (from tensorflow.python.ops.math_ops) is deprecated and will be removed in a future version.\n",
      "Instructions for updating:\n",
      "Use tf.cast instead.\n"
     ]
    }
   ],
   "source": [
    "# Loss function and optimizer.\n",
    "\n",
    "with tf.variable_scope('loss_function'):\n",
    "    mse = tf.losses.mean_squared_error(y_true, output)\n",
    "    # Summary to keep logs on the loss function. \n",
    "    mse_summ = tf.summary.scalar('loss', mse)\n",
    "\n",
    "with tf.variable_scope('training'):\n",
    "    optimizer = tf.train.AdamOptimizer(learning_rate= lr)\n",
    "    train = optimizer.minimize(mse)"
   ]
  },
  {
   "cell_type": "code",
   "execution_count": 11,
   "metadata": {},
   "outputs": [],
   "source": [
    "# Initializer and saver, and SOME merged summaries (the hyperparameter summary is left out).\n",
    "init = tf.global_variables_initializer()\n",
    "#saver = tf.train.Saver()\n",
    "merged_summs = tf.summary.merge([mse_summ, slope_summ, bias_summ])\n"
   ]
  },
  {
   "cell_type": "code",
   "execution_count": 12,
   "metadata": {},
   "outputs": [],
   "source": [
    "counter = 0 # A counter to keep track of different models."
   ]
  },
  {
   "cell_type": "markdown",
   "metadata": {},
   "source": [
    "##  Training"
   ]
  },
  {
   "cell_type": "code",
   "execution_count": 13,
   "metadata": {
    "scrolled": false
   },
   "outputs": [
    {
     "name": "stdout",
     "output_type": "stream",
     "text": [
      "=======================================\n",
      "Steps 3000\n",
      "Train MSE:  53.863514 \n",
      "\n",
      "Test MSE: 87.57358 \n",
      "\n",
      "=======================================\n"
     ]
    },
    {
     "data": {
      "image/png": "[encoded data removed]",
      "text/plain": [
       "<Figure size 432x288 with 1 Axes>"
      ]
     },
     "metadata": {
      "needs_background": "light"
     },
     "output_type": "display_data"
    }
   ],
   "source": [
    "# Set some hyperparameters and save their values into an array. \n",
    "num_steps = 3000\n",
    "batch_size = 10\n",
    "learning_rate = 0.01\n",
    "\n",
    "params_values = np.array([['steps', num_steps],\n",
    "                         ['batch_size', batch_size], \n",
    "                         ['learning_rate', learning_rate ]])\n",
    "\n",
    "fig = plt.figure()\n",
    "ax = fig.add_subplot(1, 1, 1)\n",
    "\n",
    "with tf.Session() as sess:\n",
    "    \n",
    "    sess.run(init)\n",
    "    #saver.restore(sess, \"./saved_models/tensorboard_linear_ex_\" + str(counter) )\n",
    "    \n",
    "    \n",
    "    train_writer = tf.summary.FileWriter('./tensorboard_logs/train/', sess.graph)\n",
    "    test_writer = tf.summary.FileWriter('./tensorboard_logs/test/')\n",
    "    \n",
    "    train_losses = []\n",
    "    test_losses = []\n",
    "    \n",
    "    # Saving parameter values.\n",
    "    \n",
    "    train_writer.add_summary(sess.run(parameter_log, feed_dict = {parameter_log_ph:params_values }))\n",
    "\n",
    "    # Training\n",
    "    for iteration in range(num_steps+1):\n",
    "        \n",
    "        x_batch, y_batch = next_batch(X_train, y_train, batch_size)\n",
    "        \n",
    "         \n",
    "        _ , train_loss, train_summaries = sess.run([train, mse, merged_summs], \n",
    "                             feed_dict={points: x_batch, y_true: y_batch,\n",
    "                                        lr:learning_rate})\n",
    "        \n",
    "        # Loggin MSE each 100 steps. \n",
    "        if iteration%100 == 0:\n",
    "            \n",
    "            test_loss, test_summaries  = sess.run([mse, mse_summ], \n",
    "                                              feed_dict={points:X_test, y_true:y_test})\n",
    "            \n",
    "            # Writting summaries.\n",
    "            train_writer.add_summary(train_summaries, iteration)\n",
    "            test_writer.add_summary(test_summaries, iteration)\n",
    "            \n",
    "            # Updating Python lists.\n",
    "            train_losses.append(train_loss)\n",
    "            test_losses.append(test_loss)\n",
    "            \n",
    "            print('Steps {}'.format(iteration))\n",
    "            print('Train MSE: ', train_losses[-1], '\\n')\n",
    "            print('Test MSE:',  test_losses[-1], '\\n')\n",
    "            clear_output(wait = True)\n",
    "                   \n",
    "                        \n",
    "    # printing final results\n",
    "    \n",
    "    print('=======================================')\n",
    "    print('Steps {}'.format(iteration))\n",
    "    print('Train MSE: ', train_losses[-1], '\\n')\n",
    "    print('Test MSE:',  test_losses[-1], '\\n')\n",
    "    \n",
    "    ax.cla()\n",
    "    ax.plot(train_losses, 'r', label = 'Training error')\n",
    "    ax.plot(test_losses, 'g', label = 'Test error')\n",
    "    ax.set_xlabel('Steps (x100)')\n",
    "    ax.legend()\n",
    "                \n",
    "    print('=======================================')\n",
    "    #print('train_losses = ', train_losses, '\\n')\n",
    "    #print('test_losses = ', test_losses)\n",
    "            \n",
    "    \n",
    "    train_writer.close()\n",
    "    test_writer.close()\n",
    "    \n",
    "    m_model, b_model = sess.run([m_var,b_var]) # Python variables with inferred slope and bias. \n",
    "    \n",
    "  #saver.restore(sess, \"./saved_models/tensorboard_linear_ex_\" + str(counter) )\n",
    "  #counter +=1\n",
    "    "
   ]
  },
  {
   "cell_type": "markdown",
   "metadata": {},
   "source": [
    "By now, the summaries and the graph should be accesible through tensorboard. In order to see them run\n",
    "\n",
    "tensorboard --logdir=./tensorboard_logs \n",
    "\n",
    "and acces the URL that appears in the command line. "
   ]
  },
  {
   "cell_type": "markdown",
   "metadata": {},
   "source": [
    "## Comparison with the original data.\n",
    "\n",
    "Just for fun"
   ]
  },
  {
   "cell_type": "code",
   "execution_count": 14,
   "metadata": {
    "scrolled": false
   },
   "outputs": [
    {
     "name": "stdout",
     "output_type": "stream",
     "text": [
      "Predicted slope:  4.253561\n",
      "True slope:  4.238683007889732 \n",
      "\n",
      "Predicted bias:  2.2669191\n",
      "True bias:  3.6363224576689035\n"
     ]
    }
   ],
   "source": [
    "print('Predicted slope: ', m_model)\n",
    "print('True slope: ', m_true, '\\n')\n",
    "print('Predicted bias: ', b_model)\n",
    "print('True bias: ', b_true)"
   ]
  },
  {
   "cell_type": "markdown",
   "metadata": {},
   "source": [
    "It appears that the bias could use some more training. This can also be seen in the tensorboard log, where it appears to not have converged yet. It is unnimportant for the goal of this notebook. "
   ]
  },
  {
   "cell_type": "code",
   "execution_count": 15,
   "metadata": {},
   "outputs": [],
   "source": [
    "# Using the inferred paramters to visualize the data. Full dataset.\n",
    "preds = m_model * x + b_model"
   ]
  },
  {
   "cell_type": "code",
   "execution_count": 16,
   "metadata": {},
   "outputs": [
    {
     "data": {
      "text/plain": [
       "<matplotlib.legend.Legend at 0x7fe67010fc88>"
      ]
     },
     "execution_count": 16,
     "metadata": {},
     "output_type": "execute_result"
    },
    {
     "data": {
      "image/png": "[encoded data removed]",
      "text/plain": [
       "<Figure size 432x288 with 1 Axes>"
      ]
     },
     "metadata": {
      "needs_background": "light"
     },
     "output_type": "display_data"
    }
   ],
   "source": [
    "# Plot our predictions vs. the original points. \n",
    "\n",
    "plt.plot(x.flatten(), y.flatten(), '*', label = 'Original data')\n",
    "plt.plot(x.flatten(), preds.flatten(), '.', label = 'Model predictions')\n",
    "plt.title('Predicitions vs. Original data.')\n",
    "plt.xlabel('x')\n",
    "plt.ylabel('y')\n",
    "plt.legend()"
   ]
  },
  {
   "cell_type": "code",
   "execution_count": 17,
   "metadata": {},
   "outputs": [
    {
     "data": {
      "text/plain": [
       "<matplotlib.legend.Legend at 0x7fe6700f9d68>"
      ]
     },
     "execution_count": 17,
     "metadata": {},
     "output_type": "execute_result"
    },
    {
     "data": {
      "image/png": "[encoded data removed]",
      "text/plain": [
       "<Figure size 432x288 with 1 Axes>"
      ]
     },
     "metadata": {
      "needs_background": "light"
     },
     "output_type": "display_data"
    }
   ],
   "source": [
    "# Comparison on the test set, without the noise ('clean') on the original data.\n",
    "\n",
    "clean_y_test = m_true * X_test + b_true\n",
    "preds_test = m_model * X_test + b_model\n",
    "\n",
    "plt.plot(X_test.flatten(), clean_y_test.flatten(), '*', label = 'Test data w/o noise')\n",
    "plt.plot(X_test.flatten(), preds_test.flatten(), '.', label = 'Model predictions')\n",
    "plt.title('Test set: Predictions vs. Clean original')\n",
    "plt.xlabel('x')\n",
    "plt.ylabel('y')\n",
    "plt.legend()"
   ]
  },
  {
   "cell_type": "code",
   "execution_count": null,
   "metadata": {},
   "outputs": [],
   "source": []
  }
 ],
 "metadata": {
  "kernelspec": {
   "display_name": "Python 3",
   "language": "python",
   "name": "python3"
  },
  "language_info": {
   "codemirror_mode": {
    "name": "ipython",
    "version": 3
   },
   "file_extension": ".py",
   "mimetype": "text/x-python",
   "name": "python",
   "nbconvert_exporter": "python",
   "pygments_lexer": "ipython3",
   "version": "3.7.3"
  }
 },
 "nbformat": 4,
 "nbformat_minor": 2
}
